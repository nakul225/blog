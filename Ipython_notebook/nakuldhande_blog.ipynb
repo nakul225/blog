{
 "metadata": {
  "name": ""
 },
 "nbformat": 3,
 "nbformat_minor": 0,
 "worksheets": [
  {
   "cells": [
    {
     "cell_type": "markdown",
     "metadata": {},
     "source": [
      "First post\n",
      "============\n",
      "\n",
      "Hello there! My name is Nakul and I'm a graduate student studying Computer Science at Indiana University at Bloomington. \n",
      "I have dabbled in a few different areas of programming while studying here and I noticed that I might not remember everything I've learnt here after a few months of my graduation. Hence this blog!\n",
      "This is the place where I'll be writing my insights on any topic I find interesting, discuss my academic and side projects. Advantage of putting all this stuff on the internet is that it might help somebody who's looking for clues to solve a particular problem that I've faced before.\n",
      "I've learnt so much from other blogs/tutorials/websites, I think it's time to start contributing to the community now :)\n",
      "\n",
      "About this blog\n",
      "==================\n",
      "I began programming in C language in college and then moved over to Java. It's been only a year that I started coding in Python and as everybody does, fell in love with the language. A few days back I started using Ipython and it is AWESOME!\n",
      "As a result, I'll be writing this blog using Ipython. If you'd like to write your own blog using Ipython, I'd encourage you to refer this link: http://blog.fperez.org/2012/09/blogging-with-ipython-notebook.html \n",
      "\n",
      "The name of this blog is \"littlewing\". It's after one of my favourite songs by Jimi Hendrix, greatly loved and admired by guitarists for its unique sound and Jimi's hypnotic solo. However I'm using the name for it brings an image of a butterfly when I think about it. I guess we all are like butterflies, intially in our cocoons before we break free and fly after we mature, hence the name 'little wing'."
     ]
    }
   ],
   "metadata": {}
  }
 ]
}